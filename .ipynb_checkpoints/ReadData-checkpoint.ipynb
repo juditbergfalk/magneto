{
 "cells": [
  {
   "cell_type": "code",
   "execution_count": 1,
   "id": "2930749f",
   "metadata": {},
   "outputs": [],
   "source": [
    "import numpy as np\n",
    "import pandas as pd\n",
    "import os\n",
    "import matplotlib.pyplot as plt\n",
    "from ipywidgets import Button,Dropdown,Checkbox\n",
    "from tkinter import Tk, filedialog\n",
    "from IPython.display import clear_output, display"
   ]
  },
  {
   "cell_type": "code",
   "execution_count": 2,
   "id": "b0632d97",
   "metadata": {},
   "outputs": [],
   "source": [
    "def select_files(b):\n",
    "    clear_output()                                         # Button is deleted after it is clicked.\n",
    "    root = Tk()\n",
    "    root.withdraw()                                        # Hide the main window.\n",
    "    root.call('wm', 'attributes', '.', '-topmost', True)   # Raise the root to the top of all windows.\n",
    "    b.files = filedialog.askopenfilename(multiple=True)    # List of selected files will be set button's file attribute.\n",
    "    print('List of file(s) selected:\\n',b.files)"
   ]
  },
  {
   "cell_type": "markdown",
   "id": "94c9072e",
   "metadata": {},
   "source": [
    "Select CrowdMag File(s)"
   ]
  },
  {
   "cell_type": "code",
   "execution_count": 3,
   "id": "0cc978ec",
   "metadata": {},
   "outputs": [
    {
     "name": "stdout",
     "output_type": "stream",
     "text": [
      "List of file(s) selected:\n",
      " ('C:/Users/judit/OneDrive/Documents/GitHub/NOAA_CrowdMag/magneto/data/crowdmag/crowdmag_1-2-22_iPhone12,1_2022-01-01 190715.csv',)\n"
     ]
    }
   ],
   "source": [
    "fileselect = Button(description=\"File select\")\n",
    "fileselect.on_click(select_files)\n",
    "\n",
    "display(fileselect)"
   ]
  },
  {
   "cell_type": "code",
   "execution_count": 6,
   "id": "572fc95f",
   "metadata": {},
   "outputs": [],
   "source": [
    "def dataParse(files):\n",
    "    filePaths = files\n",
    "    fileNames = []\n",
    "    \n",
    "    # create a list containing file names\n",
    "    for i in range(len(filePaths)):\n",
    "        filePath = filePaths[i]  # file path\n",
    "        fileName = os.path.basename(filePath)\n",
    "        fileNames.append(fileName)\n",
    "\n",
    "    # read in files and create a new data frame for each file\n",
    "    dataFrames = []\n",
    "    for i in range(len(filePaths)):\n",
    "        file = filePaths[i]\n",
    "        data = pd.read_csv(file, parse_dates=['Time (UTC)'])\n",
    "\n",
    "        # find start/end times \n",
    "        #(ultimately will find best window over multiple data sets of roughly same time period for stacking)\n",
    "        # for now, this is for a single data set\n",
    "        startTime = data.index.min()\n",
    "        endTime = data.index.max()\n",
    "\n",
    "        # assigning columns\n",
    "        xMag = data.iloc[:,2]\n",
    "        yMag = data.iloc[:,3]\n",
    "        zMag = data.iloc[:,4]\n",
    "\n",
    "        # calculating H (horizontal magnitude) and T (total magnitude)\n",
    "        hMag = np.sqrt(xMag**2 + yMag**2)\n",
    "        tMag = np.sqrt(xMag**2 + yMag**2 + zMag**2)\n",
    "\n",
    "        # create a new data frame\n",
    "        df = pd.DataFrame({'xMag':xMag,'yMag':yMag,'zMag':zMag,'hMag':hMag,'tMag':tMag})\n",
    "        dataFrames.append(df)\n",
    "    \n",
    "    return startTime,endTime,fileNames,dataFrames"
   ]
  },
  {
   "cell_type": "code",
   "execution_count": 7,
   "id": "5f1e0019",
   "metadata": {},
   "outputs": [
    {
     "data": {
      "text/html": [
       "<div>\n",
       "<style scoped>\n",
       "    .dataframe tbody tr th:only-of-type {\n",
       "        vertical-align: middle;\n",
       "    }\n",
       "\n",
       "    .dataframe tbody tr th {\n",
       "        vertical-align: top;\n",
       "    }\n",
       "\n",
       "    .dataframe thead th {\n",
       "        text-align: right;\n",
       "    }\n",
       "</style>\n",
       "<table border=\"1\" class=\"dataframe\">\n",
       "  <thead>\n",
       "    <tr style=\"text-align: right;\">\n",
       "      <th></th>\n",
       "      <th>xMag</th>\n",
       "      <th>yMag</th>\n",
       "      <th>zMag</th>\n",
       "      <th>hMag</th>\n",
       "      <th>tMag</th>\n",
       "    </tr>\n",
       "    <tr>\n",
       "      <th>Time (UTC)</th>\n",
       "      <th></th>\n",
       "      <th></th>\n",
       "      <th></th>\n",
       "      <th></th>\n",
       "      <th></th>\n",
       "    </tr>\n",
       "  </thead>\n",
       "  <tbody>\n",
       "    <tr>\n",
       "      <th>2022-12-31 04:14:37</th>\n",
       "      <td>-581.65</td>\n",
       "      <td>-15736.50</td>\n",
       "      <td>-46813.92</td>\n",
       "      <td>15747.245758</td>\n",
       "      <td>49391.485650</td>\n",
       "    </tr>\n",
       "    <tr>\n",
       "      <th>2022-12-31 04:15:49</th>\n",
       "      <td>2942.63</td>\n",
       "      <td>-11516.17</td>\n",
       "      <td>-44823.11</td>\n",
       "      <td>11886.178645</td>\n",
       "      <td>46372.323997</td>\n",
       "    </tr>\n",
       "    <tr>\n",
       "      <th>2022-12-31 04:16:59</th>\n",
       "      <td>-4409.79</td>\n",
       "      <td>-13107.16</td>\n",
       "      <td>-40893.67</td>\n",
       "      <td>13829.095817</td>\n",
       "      <td>43168.693948</td>\n",
       "    </tr>\n",
       "    <tr>\n",
       "      <th>2022-12-31 04:18:09</th>\n",
       "      <td>-8335.19</td>\n",
       "      <td>560.20</td>\n",
       "      <td>-64405.69</td>\n",
       "      <td>8353.994037</td>\n",
       "      <td>64945.224003</td>\n",
       "    </tr>\n",
       "    <tr>\n",
       "      <th>2022-12-31 04:19:19</th>\n",
       "      <td>-8266.49</td>\n",
       "      <td>608.58</td>\n",
       "      <td>-64707.89</td>\n",
       "      <td>8288.861595</td>\n",
       "      <td>65236.617438</td>\n",
       "    </tr>\n",
       "    <tr>\n",
       "      <th>...</th>\n",
       "      <td>...</td>\n",
       "      <td>...</td>\n",
       "      <td>...</td>\n",
       "      <td>...</td>\n",
       "      <td>...</td>\n",
       "    </tr>\n",
       "    <tr>\n",
       "      <th>2022-01-01 19:01:01</th>\n",
       "      <td>-8430.63</td>\n",
       "      <td>808.37</td>\n",
       "      <td>-66865.55</td>\n",
       "      <td>8469.296562</td>\n",
       "      <td>67399.783094</td>\n",
       "    </tr>\n",
       "    <tr>\n",
       "      <th>2022-01-01 19:02:11</th>\n",
       "      <td>-8579.09</td>\n",
       "      <td>728.76</td>\n",
       "      <td>-66766.30</td>\n",
       "      <td>8609.987013</td>\n",
       "      <td>67319.170316</td>\n",
       "    </tr>\n",
       "    <tr>\n",
       "      <th>2022-01-01 19:03:21</th>\n",
       "      <td>-8514.43</td>\n",
       "      <td>939.90</td>\n",
       "      <td>-66669.23</td>\n",
       "      <td>8566.150258</td>\n",
       "      <td>67217.298064</td>\n",
       "    </tr>\n",
       "    <tr>\n",
       "      <th>2022-01-01 19:04:31</th>\n",
       "      <td>-8481.17</td>\n",
       "      <td>896.52</td>\n",
       "      <td>-66836.71</td>\n",
       "      <td>8528.422637</td>\n",
       "      <td>67378.630116</td>\n",
       "    </tr>\n",
       "    <tr>\n",
       "      <th>2022-01-01 19:05:40</th>\n",
       "      <td>-8478.07</td>\n",
       "      <td>895.43</td>\n",
       "      <td>-66869.60</td>\n",
       "      <td>8525.225264</td>\n",
       "      <td>67410.851278</td>\n",
       "    </tr>\n",
       "  </tbody>\n",
       "</table>\n",
       "<p>1999 rows × 5 columns</p>\n",
       "</div>"
      ],
      "text/plain": [
       "                        xMag      yMag      zMag          hMag          tMag\n",
       "Time (UTC)                                                                  \n",
       "2022-12-31 04:14:37  -581.65 -15736.50 -46813.92  15747.245758  49391.485650\n",
       "2022-12-31 04:15:49  2942.63 -11516.17 -44823.11  11886.178645  46372.323997\n",
       "2022-12-31 04:16:59 -4409.79 -13107.16 -40893.67  13829.095817  43168.693948\n",
       "2022-12-31 04:18:09 -8335.19    560.20 -64405.69   8353.994037  64945.224003\n",
       "2022-12-31 04:19:19 -8266.49    608.58 -64707.89   8288.861595  65236.617438\n",
       "...                      ...       ...       ...           ...           ...\n",
       "2022-01-01 19:01:01 -8430.63    808.37 -66865.55   8469.296562  67399.783094\n",
       "2022-01-01 19:02:11 -8579.09    728.76 -66766.30   8609.987013  67319.170316\n",
       "2022-01-01 19:03:21 -8514.43    939.90 -66669.23   8566.150258  67217.298064\n",
       "2022-01-01 19:04:31 -8481.17    896.52 -66836.71   8528.422637  67378.630116\n",
       "2022-01-01 19:05:40 -8478.07    895.43 -66869.60   8525.225264  67410.851278\n",
       "\n",
       "[1999 rows x 5 columns]"
      ]
     },
     "execution_count": 7,
     "metadata": {},
     "output_type": "execute_result"
    }
   ],
   "source": [
    "# map fileNames to dataFramesList\n",
    "startTime, endTime, fileNames, dataFrames = dataParse(fileselect.files)\n",
    "dataFrames[0]"
   ]
  },
  {
   "cell_type": "code",
   "execution_count": 8,
   "id": "0ed5bc48",
   "metadata": {},
   "outputs": [],
   "source": [
    "# create dropdown menu to choose file type\n",
    "fileTypes = ['xMag','yMag','zMag','hMag','tMag']\n",
    "fileType = Dropdown(options=fileTypes)"
   ]
  },
  {
   "cell_type": "markdown",
   "id": "551faa1a",
   "metadata": {},
   "source": [
    "Select data type"
   ]
  },
  {
   "cell_type": "code",
   "execution_count": 9,
   "id": "8bb67491",
   "metadata": {},
   "outputs": [
    {
     "data": {
      "application/vnd.jupyter.widget-view+json": {
       "model_id": "4e008c7756d1466c914c536cd2ab71c5",
       "version_major": 2,
       "version_minor": 0
      },
      "text/plain": [
       "Dropdown(options=('xMag', 'yMag', 'zMag', 'hMag', 'tMag'), value='xMag')"
      ]
     },
     "metadata": {},
     "output_type": "display_data"
    }
   ],
   "source": [
    "fileType"
   ]
  },
  {
   "cell_type": "code",
   "execution_count": 10,
   "id": "54c54422",
   "metadata": {},
   "outputs": [],
   "source": [
    "# pull corresponding GeoMag data and plot"
   ]
  },
  {
   "cell_type": "code",
   "execution_count": 11,
   "id": "dbe1686d",
   "metadata": {},
   "outputs": [
    {
     "data": {
      "text/plain": [
       "[<matplotlib.lines.Line2D at 0x1cbe05ca700>]"
      ]
     },
     "execution_count": 11,
     "metadata": {},
     "output_type": "execute_result"
    },
    {
     "data": {
      "image/png": "[encoded data removed]",
      "text/plain": [
       "<Figure size 432x288 with 1 Axes>"
      ]
     },
     "metadata": {
      "needs_background": "light"
     },
     "output_type": "display_data"
    }
   ],
   "source": [
    "# test plot\n",
    "x = dataFrames[0].index\n",
    "y = dataFrames[0].loc[:,'hMag']\n",
    "plt.plot(x,y)"
   ]
  },
  {
   "cell_type": "code",
   "execution_count": null,
   "id": "a661af3a",
   "metadata": {},
   "outputs": [],
   "source": []
  }
 ],
 "metadata": {
  "kernelspec": {
   "display_name": "Python 3 (ipykernel)",
   "language": "python",
   "name": "python3"
  },
  "language_info": {
   "codemirror_mode": {
    "name": "ipython",
    "version": 3
   },
   "file_extension": ".py",
   "mimetype": "text/x-python",
   "name": "python",
   "nbconvert_exporter": "python",
   "pygments_lexer": "ipython3",
   "version": "3.9.7"
  }
 },
 "nbformat": 4,
 "nbformat_minor": 5
}
