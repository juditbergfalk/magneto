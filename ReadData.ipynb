{
 "cells": [
  {
   "cell_type": "code",
   "execution_count": 1,
   "id": "2930749f",
   "metadata": {},
   "outputs": [],
   "source": [
    "import numpy as np\n",
    "import pandas as pd\n",
    "import os\n",
    "import matplotlib.pyplot as plt\n",
    "from ipywidgets import Button,Dropdown,Checkbox\n",
    "from tkinter import Tk, filedialog\n",
    "from IPython.display import clear_output, display"
   ]
  },
  {
   "cell_type": "code",
   "execution_count": 2,
   "id": "b0632d97",
   "metadata": {},
   "outputs": [],
   "source": [
    "def select_files(b):\n",
    "    clear_output()                                         # Button is deleted after it is clicked.\n",
    "    root = Tk()\n",
    "    root.withdraw()                                        # Hide the main window.\n",
    "    root.call('wm', 'attributes', '.', '-topmost', True)   # Raise the root to the top of all windows.\n",
    "    b.files = filedialog.askopenfilename(multiple=True)    # List of selected files will be set button's file attribute.\n",
    "    print('List of file(s) selected:\\n',b.files)"
   ]
  },
  {
   "cell_type": "markdown",
   "id": "94c9072e",
   "metadata": {},
   "source": [
    "Select CrowdMag File(s)"
   ]
  },
  {
   "cell_type": "code",
   "execution_count": 3,
   "id": "0cc978ec",
   "metadata": {},
   "outputs": [
    {
     "name": "stdout",
     "output_type": "stream",
     "text": [
      "List of file(s) selected:\n",
      " ('C:/Users/judit/OneDrive/Documents/GitHub/NOAA_CrowdMag/magneto/data/crowdmag/crowdmag_March 9 2022_iPhone12,1_2022-03-09 164809.csv',)\n"
     ]
    }
   ],
   "source": [
    "fileselect = Button(description=\"File select\")\n",
    "fileselect.on_click(select_files)\n",
    "\n",
    "display(fileselect)"
   ]
  },
  {
   "cell_type": "code",
   "execution_count": 6,
   "id": "572fc95f",
   "metadata": {},
   "outputs": [],
   "source": [
    "def dataParse(files):\n",
    "    filePaths = files\n",
    "    fileNames = []\n",
    "    \n",
    "    # create a list containing file names\n",
    "    for i in range(len(filePaths)):\n",
    "        filePath = filePaths[i]  # file path\n",
    "        fileName = os.path.basename(filePath)\n",
    "        fileNames.append(fileName)\n",
    "\n",
    "    # read in files and create a new data frame for each file\n",
    "    dataFrames = []\n",
    "    for i in range(len(filePaths)):\n",
    "        file = filePaths[i]\n",
    "        data = pd.read_csv(file, parse_dates=['Time (UTC)'],index_col=0)\n",
    "\n",
    "        # find start/end times \n",
    "        #(ultimately will find best window over multiple data sets of roughly same time period for stacking)\n",
    "        # for now, this is for a single data set\n",
    "        startTime = data.index.min()\n",
    "        endTime = data.index.max()\n",
    "\n",
    "        # assigning columns\n",
    "        xMag = data.iloc[:,2]\n",
    "        yMag = data.iloc[:,3]\n",
    "        zMag = data.iloc[:,4]\n",
    "\n",
    "        # calculating H (horizontal magnitude) and T (total magnitude)\n",
    "        hMag = np.sqrt(xMag**2 + yMag**2)\n",
    "        tMag = np.sqrt(xMag**2 + yMag**2 + zMag**2)\n",
    "\n",
    "        # create a new data frame\n",
    "        df = pd.DataFrame({'xMag':xMag,'yMag':yMag,'zMag':zMag,'hMag':hMag,'tMag':tMag})\n",
    "        dataFrames.append(df)\n",
    "    \n",
    "    return startTime,endTime,fileNames,dataFrames"
   ]
  },
  {
   "cell_type": "code",
   "execution_count": 7,
   "id": "5f1e0019",
   "metadata": {},
   "outputs": [
    {
     "data": {
      "text/html": [
       "<div>\n",
       "<style scoped>\n",
       "    .dataframe tbody tr th:only-of-type {\n",
       "        vertical-align: middle;\n",
       "    }\n",
       "\n",
       "    .dataframe tbody tr th {\n",
       "        vertical-align: top;\n",
       "    }\n",
       "\n",
       "    .dataframe thead th {\n",
       "        text-align: right;\n",
       "    }\n",
       "</style>\n",
       "<table border=\"1\" class=\"dataframe\">\n",
       "  <thead>\n",
       "    <tr style=\"text-align: right;\">\n",
       "      <th></th>\n",
       "      <th>xMag</th>\n",
       "      <th>yMag</th>\n",
       "      <th>zMag</th>\n",
       "      <th>hMag</th>\n",
       "      <th>tMag</th>\n",
       "    </tr>\n",
       "    <tr>\n",
       "      <th>Time (UTC)</th>\n",
       "      <th></th>\n",
       "      <th></th>\n",
       "      <th></th>\n",
       "      <th></th>\n",
       "      <th></th>\n",
       "    </tr>\n",
       "  </thead>\n",
       "  <tbody>\n",
       "    <tr>\n",
       "      <th>2022-03-05 16:37:22</th>\n",
       "      <td>-17361.25</td>\n",
       "      <td>-23743.80</td>\n",
       "      <td>-84427.79</td>\n",
       "      <td>29413.959951</td>\n",
       "      <td>89404.881099</td>\n",
       "    </tr>\n",
       "    <tr>\n",
       "      <th>2022-03-05 16:38:32</th>\n",
       "      <td>-17381.16</td>\n",
       "      <td>-23686.29</td>\n",
       "      <td>-84288.76</td>\n",
       "      <td>29379.330437</td>\n",
       "      <td>89262.198714</td>\n",
       "    </tr>\n",
       "    <tr>\n",
       "      <th>2022-03-05 16:39:42</th>\n",
       "      <td>-17489.24</td>\n",
       "      <td>-23751.35</td>\n",
       "      <td>-84211.65</td>\n",
       "      <td>29495.764825</td>\n",
       "      <td>89227.810341</td>\n",
       "    </tr>\n",
       "    <tr>\n",
       "      <th>2022-03-05 16:40:52</th>\n",
       "      <td>-17312.21</td>\n",
       "      <td>-23791.64</td>\n",
       "      <td>-84253.30</td>\n",
       "      <td>29423.710659</td>\n",
       "      <td>89243.337622</td>\n",
       "    </tr>\n",
       "    <tr>\n",
       "      <th>2022-03-05 16:42:02</th>\n",
       "      <td>-17333.72</td>\n",
       "      <td>-23961.66</td>\n",
       "      <td>-84259.07</td>\n",
       "      <td>29573.958122</td>\n",
       "      <td>89298.431544</td>\n",
       "    </tr>\n",
       "    <tr>\n",
       "      <th>...</th>\n",
       "      <td>...</td>\n",
       "      <td>...</td>\n",
       "      <td>...</td>\n",
       "      <td>...</td>\n",
       "      <td>...</td>\n",
       "    </tr>\n",
       "    <tr>\n",
       "      <th>2022-03-09 16:43:05</th>\n",
       "      <td>-29843.95</td>\n",
       "      <td>-24788.01</td>\n",
       "      <td>-79146.91</td>\n",
       "      <td>38795.705837</td>\n",
       "      <td>88143.860557</td>\n",
       "    </tr>\n",
       "    <tr>\n",
       "      <th>2022-03-09 16:44:14</th>\n",
       "      <td>-29875.52</td>\n",
       "      <td>-24701.58</td>\n",
       "      <td>-79084.35</td>\n",
       "      <td>38764.864888</td>\n",
       "      <td>88074.111773</td>\n",
       "    </tr>\n",
       "    <tr>\n",
       "      <th>2022-03-09 16:45:25</th>\n",
       "      <td>-30014.35</td>\n",
       "      <td>-24858.02</td>\n",
       "      <td>-79240.62</td>\n",
       "      <td>38971.558402</td>\n",
       "      <td>88305.482402</td>\n",
       "    </tr>\n",
       "    <tr>\n",
       "      <th>2022-03-09 16:46:35</th>\n",
       "      <td>-30195.78</td>\n",
       "      <td>-25012.79</td>\n",
       "      <td>-79702.14</td>\n",
       "      <td>39210.008842</td>\n",
       "      <td>88824.860900</td>\n",
       "    </tr>\n",
       "    <tr>\n",
       "      <th>2022-03-09 16:47:44</th>\n",
       "      <td>-30214.61</td>\n",
       "      <td>-25215.19</td>\n",
       "      <td>-80104.77</td>\n",
       "      <td>39353.887536</td>\n",
       "      <td>89249.664655</td>\n",
       "    </tr>\n",
       "  </tbody>\n",
       "</table>\n",
       "<p>4947 rows × 5 columns</p>\n",
       "</div>"
      ],
      "text/plain": [
       "                         xMag      yMag      zMag          hMag          tMag\n",
       "Time (UTC)                                                                   \n",
       "2022-03-05 16:37:22 -17361.25 -23743.80 -84427.79  29413.959951  89404.881099\n",
       "2022-03-05 16:38:32 -17381.16 -23686.29 -84288.76  29379.330437  89262.198714\n",
       "2022-03-05 16:39:42 -17489.24 -23751.35 -84211.65  29495.764825  89227.810341\n",
       "2022-03-05 16:40:52 -17312.21 -23791.64 -84253.30  29423.710659  89243.337622\n",
       "2022-03-05 16:42:02 -17333.72 -23961.66 -84259.07  29573.958122  89298.431544\n",
       "...                       ...       ...       ...           ...           ...\n",
       "2022-03-09 16:43:05 -29843.95 -24788.01 -79146.91  38795.705837  88143.860557\n",
       "2022-03-09 16:44:14 -29875.52 -24701.58 -79084.35  38764.864888  88074.111773\n",
       "2022-03-09 16:45:25 -30014.35 -24858.02 -79240.62  38971.558402  88305.482402\n",
       "2022-03-09 16:46:35 -30195.78 -25012.79 -79702.14  39210.008842  88824.860900\n",
       "2022-03-09 16:47:44 -30214.61 -25215.19 -80104.77  39353.887536  89249.664655\n",
       "\n",
       "[4947 rows x 5 columns]"
      ]
     },
     "execution_count": 7,
     "metadata": {},
     "output_type": "execute_result"
    }
   ],
   "source": [
    "# map fileNames to dataFramesList\n",
    "startTime, endTime, fileNames, dataFrames = dataParse(fileselect.files)\n",
    "dataFrames[0]"
   ]
  },
  {
   "cell_type": "code",
   "execution_count": 8,
   "id": "0ed5bc48",
   "metadata": {},
   "outputs": [],
   "source": [
    "# create dropdown menu to choose file type\n",
    "fileTypes = ['xMag','yMag','zMag','hMag','tMag']\n",
    "fileType = Dropdown(options=fileTypes)"
   ]
  },
  {
   "cell_type": "markdown",
   "id": "551faa1a",
   "metadata": {},
   "source": [
    "Select data type"
   ]
  },
  {
   "cell_type": "code",
   "execution_count": 9,
   "id": "8bb67491",
   "metadata": {},
   "outputs": [
    {
     "data": {
      "application/vnd.jupyter.widget-view+json": {
       "model_id": "4d257ab21d704a5aa53424170ba87913",
       "version_major": 2,
       "version_minor": 0
      },
      "text/plain": [
       "Dropdown(options=('xMag', 'yMag', 'zMag', 'hMag', 'tMag'), value='xMag')"
      ]
     },
     "metadata": {},
     "output_type": "display_data"
    }
   ],
   "source": [
    "fileType"
   ]
  },
  {
   "cell_type": "code",
   "execution_count": 10,
   "id": "54c54422",
   "metadata": {},
   "outputs": [],
   "source": [
    "# pull corresponding GeoMag data and plot"
   ]
  },
  {
   "cell_type": "code",
   "execution_count": 11,
   "id": "dbe1686d",
   "metadata": {},
   "outputs": [
    {
     "data": {
      "text/plain": [
       "[<matplotlib.lines.Line2D at 0x16a397087c0>]"
      ]
     },
     "execution_count": 11,
     "metadata": {},
     "output_type": "execute_result"
    },
    {
     "data": {
      "image/png": "[encoded data removed]",
      "text/plain": [
       "<Figure size 432x288 with 1 Axes>"
      ]
     },
     "metadata": {
      "needs_background": "light"
     },
     "output_type": "display_data"
    }
   ],
   "source": [
    "# test plot\n",
    "x = dataFrames[0].index\n",
    "y = dataFrames[0].loc[:,'hMag']\n",
    "plt.plot(x,y)"
   ]
  },
  {
   "cell_type": "code",
   "execution_count": null,
   "id": "a661af3a",
   "metadata": {},
   "outputs": [],
   "source": []
  }
 ],
 "metadata": {
  "kernelspec": {
   "display_name": "Python 3 (ipykernel)",
   "language": "python",
   "name": "python3"
  },
  "language_info": {
   "codemirror_mode": {
    "name": "ipython",
    "version": 3
   },
   "file_extension": ".py",
   "mimetype": "text/x-python",
   "name": "python",
   "nbconvert_exporter": "python",
   "pygments_lexer": "ipython3",
   "version": "3.9.7"
  }
 },
 "nbformat": 4,
 "nbformat_minor": 5
}
