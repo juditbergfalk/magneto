{
 "cells": [
  {
   "cell_type": "code",
   "execution_count": 19,
   "id": "2930749f",
   "metadata": {},
   "outputs": [],
   "source": [
    "import numpy as np\n",
    "import pandas as pd\n",
    "import os\n",
    "import matplotlib.pyplot as plt\n",
    "from ipywidgets import Button,Dropdown,Checkbox\n",
    "from tkinter import Tk, filedialog\n",
    "from IPython.display import clear_output, display"
   ]
  },
  {
   "cell_type": "code",
   "execution_count": 20,
   "id": "b0632d97",
   "metadata": {},
   "outputs": [],
   "source": [
    "def select_files(b):\n",
    "    clear_output()                                         # Button is deleted after it is clicked.\n",
    "    root = Tk()\n",
    "    root.withdraw()                                        # Hide the main window.\n",
    "    root.call('wm', 'attributes', '.', '-topmost', True)   # Raise the root to the top of all windows.\n",
    "    b.files = filedialog.askopenfilename(multiple=True)    # List of selected files will be set button's file attribute.\n",
    "    print('List of file(s) selected:\\n',b.files)"
   ]
  },
  {
   "cell_type": "markdown",
   "id": "94c9072e",
   "metadata": {},
   "source": [
    "Select CrowdMag File(s)"
   ]
  },
  {
   "cell_type": "code",
   "execution_count": 21,
   "id": "0cc978ec",
   "metadata": {},
   "outputs": [
    {
     "name": "stdout",
     "output_type": "stream",
     "text": [
      "List of file(s) selected:\n",
      " \n"
     ]
    }
   ],
   "source": [
    "fileselect = Button(description=\"File select\")\n",
    "fileselect.on_click(select_files)\n",
    "\n",
    "display(fileselect)"
   ]
  },
  {
   "cell_type": "code",
   "execution_count": 17,
   "id": "572fc95f",
   "metadata": {},
   "outputs": [],
   "source": [
    "def dataParse(files):\n",
    "    filePaths = files\n",
    "    fileNames = []\n",
    "    \n",
    "    # create a list containing file names\n",
    "    for i in range(len(filePaths)):\n",
    "        filePath = filePaths[i]  # file path\n",
    "        fileName = os.path.basename(filePath)\n",
    "        fileNames.append(fileName)\n",
    "\n",
    "    # read in files and create a new data frame for each file\n",
    "    dataFrames = []\n",
    "    for i in range(len(filePaths)):\n",
    "        file = filePaths[i]\n",
    "        data = pd.read_csv(file, parse_dates=['Time (UTC)'],index_col=0)\n",
    "\n",
    "        # find start/end times \n",
    "        #(ultimately will find best window over multiple data sets of roughly same time period for stacking)\n",
    "        # for now, this is for a single data set\n",
    "        startTime = data.index.min()\n",
    "        endTime = data.index.max()\n",
    "\n",
    "        # assigning columns\n",
    "        xMag = data.iloc[:,2]\n",
    "        yMag = data.iloc[:,3]\n",
    "        zMag = data.iloc[:,4]\n",
    "\n",
    "        # calculating H (horizontal magnitude) and T (total magnitude)\n",
    "        hMag = np.sqrt(xMag**2 + yMag**2)\n",
    "        tMag = np.sqrt(xMag**2 + yMag**2 + zMag**2)\n",
    "\n",
    "        # create a new data frame\n",
    "        df = pd.DataFrame({'xMag':xMag,'yMag':yMag,'zMag':zMag,'hMag':hMag,'tMag':tMag})\n",
    "        dataFrames.append(df)\n",
    "    \n",
    "    return startTime,endTime,fileNames,dataFrames"
   ]
  },
  {
   "cell_type": "code",
   "execution_count": 18,
   "id": "5f1e0019",
   "metadata": {},
   "outputs": [
    {
     "data": {
      "text/html": [
       "<div>\n",
       "<style scoped>\n",
       "    .dataframe tbody tr th:only-of-type {\n",
       "        vertical-align: middle;\n",
       "    }\n",
       "\n",
       "    .dataframe tbody tr th {\n",
       "        vertical-align: top;\n",
       "    }\n",
       "\n",
       "    .dataframe thead th {\n",
       "        text-align: right;\n",
       "    }\n",
       "</style>\n",
       "<table border=\"1\" class=\"dataframe\">\n",
       "  <thead>\n",
       "    <tr style=\"text-align: right;\">\n",
       "      <th></th>\n",
       "      <th>xMag</th>\n",
       "      <th>yMag</th>\n",
       "      <th>zMag</th>\n",
       "      <th>hMag</th>\n",
       "      <th>tMag</th>\n",
       "    </tr>\n",
       "    <tr>\n",
       "      <th>Time (UTC)</th>\n",
       "      <th></th>\n",
       "      <th></th>\n",
       "      <th></th>\n",
       "      <th></th>\n",
       "      <th></th>\n",
       "    </tr>\n",
       "  </thead>\n",
       "  <tbody>\n",
       "    <tr>\n",
       "      <th>2021-12-08 15:03:00</th>\n",
       "      <td>-5000.86</td>\n",
       "      <td>4085.44</td>\n",
       "      <td>-59031.37</td>\n",
       "      <td>6457.508864</td>\n",
       "      <td>59383.516777</td>\n",
       "    </tr>\n",
       "    <tr>\n",
       "      <th>2021-12-08 15:04:00</th>\n",
       "      <td>-1082.98</td>\n",
       "      <td>9779.62</td>\n",
       "      <td>-71443.27</td>\n",
       "      <td>9839.401050</td>\n",
       "      <td>72117.644452</td>\n",
       "    </tr>\n",
       "    <tr>\n",
       "      <th>2021-12-08 15:05:00</th>\n",
       "      <td>-1065.41</td>\n",
       "      <td>9862.22</td>\n",
       "      <td>-71521.87</td>\n",
       "      <td>9919.600889</td>\n",
       "      <td>72206.484266</td>\n",
       "    </tr>\n",
       "    <tr>\n",
       "      <th>2021-12-08 15:07:00</th>\n",
       "      <td>-1010.73</td>\n",
       "      <td>9770.70</td>\n",
       "      <td>-71525.79</td>\n",
       "      <td>9822.838369</td>\n",
       "      <td>72197.138370</td>\n",
       "    </tr>\n",
       "    <tr>\n",
       "      <th>2021-12-08 15:08:00</th>\n",
       "      <td>-921.31</td>\n",
       "      <td>9951.22</td>\n",
       "      <td>-71567.71</td>\n",
       "      <td>9993.777644</td>\n",
       "      <td>72262.111139</td>\n",
       "    </tr>\n",
       "    <tr>\n",
       "      <th>...</th>\n",
       "      <td>...</td>\n",
       "      <td>...</td>\n",
       "      <td>...</td>\n",
       "      <td>...</td>\n",
       "      <td>...</td>\n",
       "    </tr>\n",
       "    <tr>\n",
       "      <th>2021-12-09 22:52:00</th>\n",
       "      <td>-1349.55</td>\n",
       "      <td>9923.03</td>\n",
       "      <td>-73638.87</td>\n",
       "      <td>10014.380140</td>\n",
       "      <td>74316.693848</td>\n",
       "    </tr>\n",
       "    <tr>\n",
       "      <th>2021-12-09 22:53:00</th>\n",
       "      <td>-1179.52</td>\n",
       "      <td>9939.34</td>\n",
       "      <td>-73443.18</td>\n",
       "      <td>10009.083228</td>\n",
       "      <td>74122.077923</td>\n",
       "    </tr>\n",
       "    <tr>\n",
       "      <th>2021-12-09 22:54:00</th>\n",
       "      <td>-1387.39</td>\n",
       "      <td>9953.26</td>\n",
       "      <td>-73675.21</td>\n",
       "      <td>10049.489322</td>\n",
       "      <td>74357.439468</td>\n",
       "    </tr>\n",
       "    <tr>\n",
       "      <th>2021-12-09 22:55:00</th>\n",
       "      <td>-1261.98</td>\n",
       "      <td>9968.88</td>\n",
       "      <td>-73441.20</td>\n",
       "      <td>10048.440773</td>\n",
       "      <td>74125.441108</td>\n",
       "    </tr>\n",
       "    <tr>\n",
       "      <th>2021-12-09 22:56:00</th>\n",
       "      <td>-1389.14</td>\n",
       "      <td>9993.99</td>\n",
       "      <td>-73534.20</td>\n",
       "      <td>10090.071658</td>\n",
       "      <td>74223.231644</td>\n",
       "    </tr>\n",
       "  </tbody>\n",
       "</table>\n",
       "<p>1641 rows × 5 columns</p>\n",
       "</div>"
      ],
      "text/plain": [
       "                        xMag     yMag      zMag          hMag          tMag\n",
       "Time (UTC)                                                                 \n",
       "2021-12-08 15:03:00 -5000.86  4085.44 -59031.37   6457.508864  59383.516777\n",
       "2021-12-08 15:04:00 -1082.98  9779.62 -71443.27   9839.401050  72117.644452\n",
       "2021-12-08 15:05:00 -1065.41  9862.22 -71521.87   9919.600889  72206.484266\n",
       "2021-12-08 15:07:00 -1010.73  9770.70 -71525.79   9822.838369  72197.138370\n",
       "2021-12-08 15:08:00  -921.31  9951.22 -71567.71   9993.777644  72262.111139\n",
       "...                      ...      ...       ...           ...           ...\n",
       "2021-12-09 22:52:00 -1349.55  9923.03 -73638.87  10014.380140  74316.693848\n",
       "2021-12-09 22:53:00 -1179.52  9939.34 -73443.18  10009.083228  74122.077923\n",
       "2021-12-09 22:54:00 -1387.39  9953.26 -73675.21  10049.489322  74357.439468\n",
       "2021-12-09 22:55:00 -1261.98  9968.88 -73441.20  10048.440773  74125.441108\n",
       "2021-12-09 22:56:00 -1389.14  9993.99 -73534.20  10090.071658  74223.231644\n",
       "\n",
       "[1641 rows x 5 columns]"
      ]
     },
     "execution_count": 18,
     "metadata": {},
     "output_type": "execute_result"
    }
   ],
   "source": [
    "# map fileNames to dataFramesList\n",
    "startTime, endTime, fileNames, dataFrames = dataParse(fileselect.files)\n",
    "dataFrames[0]"
   ]
  },
  {
   "cell_type": "code",
   "execution_count": null,
   "id": "0ed5bc48",
   "metadata": {},
   "outputs": [],
   "source": [
    "# create dropdown menu to choose file type\n",
    "fileTypes = ['xMag','yMag','zMag','hMag','tMag']\n",
    "fileType = Dropdown(options=fileTypes)"
   ]
  },
  {
   "cell_type": "markdown",
   "id": "551faa1a",
   "metadata": {},
   "source": [
    "Select data type"
   ]
  },
  {
   "cell_type": "code",
   "execution_count": null,
   "id": "8bb67491",
   "metadata": {},
   "outputs": [],
   "source": [
    "fileType"
   ]
  },
  {
   "cell_type": "code",
   "execution_count": null,
   "id": "54c54422",
   "metadata": {},
   "outputs": [],
   "source": [
    "# pull corresponding GeoMag data and plot"
   ]
  },
  {
   "cell_type": "code",
   "execution_count": null,
   "id": "dbe1686d",
   "metadata": {},
   "outputs": [],
   "source": [
    "# test plot\n",
    "x = dataFrames[0].index\n",
    "y = dataFrames[0].loc[:,'hMag']\n",
    "plt.plot(x,y)"
   ]
  },
  {
   "cell_type": "code",
   "execution_count": null,
   "id": "a661af3a",
   "metadata": {},
   "outputs": [],
   "source": []
  }
 ],
 "metadata": {
  "kernelspec": {
   "display_name": "Python 3 (ipykernel)",
   "language": "python",
   "name": "python3"
  },
  "language_info": {
   "codemirror_mode": {
    "name": "ipython",
    "version": 3
   },
   "file_extension": ".py",
   "mimetype": "text/x-python",
   "name": "python",
   "nbconvert_exporter": "python",
   "pygments_lexer": "ipython3",
   "version": "3.9.7"
  }
 },
 "nbformat": 4,
 "nbformat_minor": 5
}
