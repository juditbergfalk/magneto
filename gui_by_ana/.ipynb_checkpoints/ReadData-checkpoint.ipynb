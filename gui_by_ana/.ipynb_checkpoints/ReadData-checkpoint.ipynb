{
 "cells": [
  {
   "cell_type": "code",
   "execution_count": 1,
   "id": "2930749f",
   "metadata": {},
   "outputs": [],
   "source": [
    "import numpy as np\n",
    "import pandas as pd\n",
    "import os\n",
    "import matplotlib.pyplot as plt\n",
    "from ipywidgets import Button,Dropdown,Checkbox\n",
    "from tkinter import Tk, filedialog\n",
    "from IPython.display import clear_output, display"
   ]
  },
  {
   "cell_type": "code",
   "execution_count": 2,
   "id": "b0632d97",
   "metadata": {},
   "outputs": [],
   "source": [
    "def select_files(b):\n",
    "    clear_output()                                         # Button is deleted after it is clicked.\n",
    "    root = Tk()\n",
    "    root.withdraw()                                        # Hide the main window.\n",
    "    root.call('wm', 'attributes', '.', '-topmost', True)   # Raise the root to the top of all windows.\n",
    "    b.files = filedialog.askopenfilename(multiple=True)    # List of selected files will be set button's file attribute.\n",
    "    print('List of file(s) selected:\\n',b.files)"
   ]
  },
  {
   "cell_type": "markdown",
   "id": "94c9072e",
   "metadata": {},
   "source": [
    "Select CrowdMag File(s)"
   ]
  },
  {
   "cell_type": "code",
   "execution_count": 3,
   "id": "0cc978ec",
   "metadata": {},
   "outputs": [
    {
     "name": "stdout",
     "output_type": "stream",
     "text": [
      "List of file(s) selected:\n",
      " \n"
     ]
    }
   ],
   "source": [
    "fileselect = Button(description=\"File select\")\n",
    "fileselect.on_click(select_files)\n",
    "\n",
    "display(fileselect)"
   ]
  },
  {
   "cell_type": "code",
   "execution_count": 4,
   "id": "572fc95f",
   "metadata": {},
   "outputs": [],
   "source": [
    "def dataParse(files):\n",
    "    filePaths = files\n",
    "    fileNames = []\n",
    "    \n",
    "    # create a list containing file names\n",
    "    for i in range(len(filePaths)):\n",
    "        filePath = filePaths[i]  # file path\n",
    "        fileName = os.path.basename(filePath)\n",
    "        fileNames.append(fileName)\n",
    "\n",
    "    # read in files and create a new data frame for each file\n",
    "    dataFrames = []\n",
    "    for i in range(len(filePaths)):\n",
    "        file = filePaths[i]\n",
    "        data = pd.read_csv(file, parse_dates=['Time (UTC)'],index_col=0)\n",
    "\n",
    "        # find start/end times \n",
    "        #(ultimately will find best window over multiple data sets of roughly same time period for stacking)\n",
    "        # for now, this is for a single data set\n",
    "        startTime = data.index.min()\n",
    "        endTime = data.index.max()\n",
    "\n",
    "        # assigning columns\n",
    "        xMag = data.iloc[:,2]\n",
    "        yMag = data.iloc[:,3]\n",
    "        zMag = data.iloc[:,4]\n",
    "\n",
    "        # calculating H (horizontal magnitude) and T (total magnitude)\n",
    "        hMag = np.sqrt(xMag**2 + yMag**2)\n",
    "        tMag = np.sqrt(xMag**2 + yMag**2 + zMag**2)\n",
    "\n",
    "        # create a new data frame\n",
    "        df = pd.DataFrame({'xMag':xMag,'yMag':yMag,'zMag':zMag,'hMag':hMag,'tMag':tMag})\n",
    "        dataFrames.append(df)\n",
    "    \n",
    "    return startTime,endTime,fileNames,dataFrames"
   ]
  },
  {
   "cell_type": "code",
   "execution_count": 5,
   "id": "5f1e0019",
   "metadata": {},
   "outputs": [
    {
     "ename": "AttributeError",
     "evalue": "'Button' object has no attribute 'files'",
     "output_type": "error",
     "traceback": [
      "\u001b[1;31m---------------------------------------------------------------------------\u001b[0m",
      "\u001b[1;31mAttributeError\u001b[0m                            Traceback (most recent call last)",
      "\u001b[1;32m~\\AppData\\Local\\Temp/ipykernel_17512/1868441393.py\u001b[0m in \u001b[0;36m<module>\u001b[1;34m\u001b[0m\n\u001b[0;32m      1\u001b[0m \u001b[1;31m# map fileNames to dataFramesList\u001b[0m\u001b[1;33m\u001b[0m\u001b[1;33m\u001b[0m\u001b[0m\n\u001b[1;32m----> 2\u001b[1;33m \u001b[0mstartTime\u001b[0m\u001b[1;33m,\u001b[0m \u001b[0mendTime\u001b[0m\u001b[1;33m,\u001b[0m \u001b[0mfileNames\u001b[0m\u001b[1;33m,\u001b[0m \u001b[0mdataFrames\u001b[0m \u001b[1;33m=\u001b[0m \u001b[0mdataParse\u001b[0m\u001b[1;33m(\u001b[0m\u001b[0mfileselect\u001b[0m\u001b[1;33m.\u001b[0m\u001b[0mfiles\u001b[0m\u001b[1;33m)\u001b[0m\u001b[1;33m\u001b[0m\u001b[1;33m\u001b[0m\u001b[0m\n\u001b[0m\u001b[0;32m      3\u001b[0m \u001b[0mdataFrames\u001b[0m\u001b[1;33m[\u001b[0m\u001b[1;36m0\u001b[0m\u001b[1;33m]\u001b[0m\u001b[1;33m\u001b[0m\u001b[1;33m\u001b[0m\u001b[0m\n",
      "\u001b[1;31mAttributeError\u001b[0m: 'Button' object has no attribute 'files'"
     ]
    }
   ],
   "source": [
    "# map fileNames to dataFramesList\n",
    "startTime, endTime, fileNames, dataFrames = dataParse(fileselect.files)\n",
    "dataFrames[0]"
   ]
  },
  {
   "cell_type": "code",
   "execution_count": null,
   "id": "0ed5bc48",
   "metadata": {},
   "outputs": [],
   "source": [
    "# create dropdown menu to choose file type\n",
    "fileTypes = ['xMag','yMag','zMag','hMag','tMag']\n",
    "fileType = Dropdown(options=fileTypes)"
   ]
  },
  {
   "cell_type": "markdown",
   "id": "551faa1a",
   "metadata": {},
   "source": [
    "Select data type"
   ]
  },
  {
   "cell_type": "code",
   "execution_count": null,
   "id": "8bb67491",
   "metadata": {},
   "outputs": [],
   "source": [
    "fileType"
   ]
  },
  {
   "cell_type": "code",
   "execution_count": null,
   "id": "54c54422",
   "metadata": {},
   "outputs": [],
   "source": [
    "# pull corresponding GeoMag data and plot"
   ]
  },
  {
   "cell_type": "code",
   "execution_count": null,
   "id": "dbe1686d",
   "metadata": {},
   "outputs": [],
   "source": [
    "# test plot\n",
    "x = dataFrames[0].index\n",
    "y = dataFrames[0].loc[:,'hMag']\n",
    "plt.plot(x,y)"
   ]
  },
  {
   "cell_type": "code",
   "execution_count": null,
   "id": "a661af3a",
   "metadata": {},
   "outputs": [],
   "source": []
  }
 ],
 "metadata": {
  "kernelspec": {
   "display_name": "Python 3 (ipykernel)",
   "language": "python",
   "name": "python3"
  },
  "language_info": {
   "codemirror_mode": {
    "name": "ipython",
    "version": 3
   },
   "file_extension": ".py",
   "mimetype": "text/x-python",
   "name": "python",
   "nbconvert_exporter": "python",
   "pygments_lexer": "ipython3",
   "version": "3.9.7"
  }
 },
 "nbformat": 4,
 "nbformat_minor": 5
}
